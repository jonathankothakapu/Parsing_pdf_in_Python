{
 "cells": [
  {
   "cell_type": "code",
   "execution_count": 33,
   "id": "8c1c2390",
   "metadata": {},
   "outputs": [],
   "source": [
    "# Libraries used:\n",
    "# pdfplumber\n",
    "# re\n",
    "# pandas\n",
    "# collection"
   ]
  },
  {
   "cell_type": "code",
   "execution_count": 1,
   "id": "b8153676",
   "metadata": {},
   "outputs": [],
   "source": [
    "#pip3 install pdfplumber"
   ]
  },
  {
   "cell_type": "code",
   "execution_count": 2,
   "id": "78e00545",
   "metadata": {},
   "outputs": [],
   "source": [
    "import pdfplumber\n",
    "import re"
   ]
  },
  {
   "cell_type": "code",
   "execution_count": 3,
   "id": "39c33132",
   "metadata": {},
   "outputs": [],
   "source": [
    "# Example 1 -  a small  invoice\n",
    "with pdfplumber.open('Dataset/professionalblue_example.pdf') as pdf:\n",
    "    page = pdf.pages[0]\n",
    "    text = page.extract_text()"
   ]
  },
  {
   "cell_type": "code",
   "execution_count": 4,
   "id": "838660e0",
   "metadata": {},
   "outputs": [
    {
     "data": {
      "text/plain": [
       "'INVOICE\\nInvoice No. I1083\\nAccount # C1006\\nDate 08-14-2008\\nDue By 08-31-2008\\nDemo Company\\nPhone : 111-222-3333 Terms None\\n1234 Main Street E-Mail : 333-444-4444 PO No. PO1234\\nAshland, KY 41102 Web : http://www.ksoftware.net Sales Rep SalesPerson1\\nBill To Ship To\\nTest Customer Test Customer\\n1234 Main Street 1234 Main Street\\nAshland, KY 41101 Ashland,  41101\\nCCooddee DDeessccrriippttiioonn QTY Price Line Total\\nSKU1222 Test Import Name - Description Goes Here 1 $10.00 $10.00\\nLabor - Example labor item. Quantity is number of hours spent,  1.5 $100.00 $150.00\\nprice is hourly rate. Quantity accepts decimal values.\\nNotes\\nAn invoice note can go here. Multi-line and even multi-page notes are supported.\\nPPaayymmeenntt  DDeettaaiillss\\nSubtotal $160.00\\nShipping$10.00 Tax $0.78\\nUPS Ground Total $170.78\\nPayments (-) $0.00\\nBalance Due $170.78\\nAn invoice footer can go here'"
      ]
     },
     "execution_count": 4,
     "metadata": {},
     "output_type": "execute_result"
    }
   ],
   "source": [
    "text"
   ]
  },
  {
   "cell_type": "code",
   "execution_count": 5,
   "id": "71c3b847",
   "metadata": {},
   "outputs": [
    {
     "name": "stdout",
     "output_type": "stream",
     "text": [
      "INVOICE\n",
      "Invoice No. I1083\n",
      "Account # C1006\n",
      "Date 08-14-2008\n",
      "Due By 08-31-2008\n",
      "Demo Company\n",
      "Phone : 111-222-3333 Terms None\n",
      "1234 Main Street E-Mail : 333-444-4444 PO No. PO1234\n",
      "Ashland, KY 41102 Web : http://www.ksoftware.net Sales Rep SalesPerson1\n",
      "Bill To Ship To\n",
      "Test Customer Test Customer\n",
      "1234 Main Street 1234 Main Street\n",
      "Ashland, KY 41101 Ashland,  41101\n",
      "CCooddee DDeessccrriippttiioonn QTY Price Line Total\n",
      "SKU1222 Test Import Name - Description Goes Here 1 $10.00 $10.00\n",
      "Labor - Example labor item. Quantity is number of hours spent,  1.5 $100.00 $150.00\n",
      "price is hourly rate. Quantity accepts decimal values.\n",
      "Notes\n",
      "An invoice note can go here. Multi-line and even multi-page notes are supported.\n",
      "PPaayymmeenntt  DDeettaaiillss\n",
      "Subtotal $160.00\n",
      "Shipping$10.00 Tax $0.78\n",
      "UPS Ground Total $170.78\n",
      "Payments (-) $0.00\n",
      "Balance Due $170.78\n",
      "An invoice footer can go here\n"
     ]
    }
   ],
   "source": [
    "print(text)"
   ]
  },
  {
   "cell_type": "code",
   "execution_count": 6,
   "id": "aa79b5a3",
   "metadata": {},
   "outputs": [],
   "source": [
    "for row in text.split('\\n'):\n",
    "    if  row.startswith('Balance Due'):\n",
    "        balance=row.split()[-1]"
   ]
  },
  {
   "cell_type": "code",
   "execution_count": 7,
   "id": "b75872df",
   "metadata": {},
   "outputs": [
    {
     "data": {
      "text/plain": [
       "'$170.78'"
      ]
     },
     "execution_count": 7,
     "metadata": {},
     "output_type": "execute_result"
    }
   ],
   "source": [
    "balance"
   ]
  },
  {
   "cell_type": "code",
   "execution_count": 8,
   "id": "1b74087b",
   "metadata": {},
   "outputs": [
    {
     "name": "stdout",
     "output_type": "stream",
     "text": [
      "http://www.ksoftware.net\n"
     ]
    }
   ],
   "source": [
    "# for website using regex\n",
    "import re\n",
    "pattern = re.compile(r'https?://www\\.?\\w+\\.\\w+')\n",
    "matches = pattern.findall(text)\n",
    "\n",
    "for match in matches:\n",
    "    print(match)"
   ]
  },
  {
   "cell_type": "markdown",
   "id": "fe76a287",
   "metadata": {},
   "source": [
    "# -------------------------------------------------------------------"
   ]
  },
  {
   "cell_type": "code",
   "execution_count": 9,
   "id": "08dc9480",
   "metadata": {},
   "outputs": [],
   "source": [
    "# Example 2 - a large semistructured invoice pdf"
   ]
  },
  {
   "cell_type": "markdown",
   "id": "e465cffe",
   "metadata": {},
   "source": [
    "# Extract Invoice lines from a semistructured PDF page"
   ]
  },
  {
   "cell_type": "code",
   "execution_count": 10,
   "id": "62a3d5ca",
   "metadata": {},
   "outputs": [],
   "source": [
    "import pdfplumber\n",
    "import re\n",
    "import pandas as pd"
   ]
  },
  {
   "cell_type": "code",
   "execution_count": 11,
   "id": "f5c3afdc",
   "metadata": {},
   "outputs": [],
   "source": [
    "#Page 16 of the pdf\n"
   ]
  },
  {
   "cell_type": "code",
   "execution_count": 12,
   "id": "056b7e60",
   "metadata": {},
   "outputs": [],
   "source": [
    "with pdfplumber.open('Dataset/apreports.pdf') as pdf:\n",
    "    page = pdf.pages[15]\n",
    "    text = page.extract_text()"
   ]
  },
  {
   "cell_type": "code",
   "execution_count": 13,
   "id": "758a2c35",
   "metadata": {},
   "outputs": [
    {
     "name": "stdout",
     "output_type": "stream",
     "text": [
      "AccountsPayableReportPack\n",
      "changeswillbereflectedunderthe\"New\"heading.Whenaninvoiceormanualcheckisdeleted,\n",
      "theInvoiceAmountisautomaticallychangedtozeroandtheStatusfieldischangedto\"D\".\n",
      "TotalTransactionCount Totalnumberoftransactionsonthelistincludingchangesanddeletions.Eachchangedtransaction\n",
      "(i.e.,botholdandnew)countsasonetransaction.\n",
      "1Notshownonsamplereport.\n",
      "Invoice by Vendor List\n",
      "Date: 08/25/2020 Invoice by Vendor List Page: 1\n",
      "Jensen, Martin & Anderson, P.C.\n",
      "Inv Due Inv Disc Disc Net\n",
      "Voucher # Invoice # Date Date Amount Amount Date Amount 1099 Ref # Description Codes\n",
      "200 United Parcel Service\n",
      "200.01MLJ 3243387 032620 062620 75.00 P 75.00 1 Overnight document delivery * 1\n",
      "3243387 032720 062720 75.00 P 75.00 3 Postage * 1\n",
      "3243387 072620 072620 75.00 P 75.00 2 Overnight document delivery * 1\n",
      "Vendor Totals 225.00 0.00 225.00\n",
      "202 Software Technology, LLC\n",
      "312205 082020 082520 490.00 P 490.00 1 Software Maintenance Agreement Tabs3 * 1\n",
      "312206 082020 082520 239.00 P 239.00 2 Software Maintenance Agreement Tabs3 General Ledger * 1\n",
      "312207 082020 082520 239.00 P 239.00 3 Software Maintenance Agreement Tabs3 Accounts Payable * 1\n",
      "312208 082020 082520 239.00 P 239.00 4 Software Maintenance Agreement Tabs3 Trust Accounting * 1\n",
      "312209 082020 082520 800.00 P 800.00 5 Software Maintenance Agreement PracticeMaster (9 Users) * 1\n",
      "312210 082020 082520 105.00 P 105.00 6 Software Maintenance Agreement Tabs3 Taskbill * 1\n",
      "320559 082520 083020 205.00 205.00 7 Purchase Tabs3 Device Interface Program 1\n",
      "Vendor Totals 2,317.00 0.00 2,317.00\n",
      "203 Clerk of the County Court\n",
      "200.01PAM 042620 042620 225.00 P 225.00 1 Documentation Fee, Filing Fee, and Sheriff Service Fee * 1\n",
      "Vendor Totals 225.00 0.00 225.00\n",
      "204 Clerk of the District Court\n",
      "032720 032720 75.00 P 75.00 2 Filing fee * 1\n",
      "052020 052020 75.00 P 75.00 3 Filing fee * 1\n",
      "850.00 RON 082020 082020 150.00 150.00 1 Petition for Dissolution of Marriage Filing Fee 1\n",
      "Vendor Totals 300.00 0.00 300.00\n",
      "225 Jackson/Wylinda\n",
      "122419 122419 750.00 P 750.00 Y 2 Holiday Party * 1\n",
      "072620 072620 1,500.00 P 1,500.00 Y 1 Catering/Firm Retreat * 1\n",
      "Vendor Totals 2,250.00 0.00 2,250.00\n",
      "240 NELCO\n",
      "5065 2094756 072620 082620 129.85 P 129.85 1 Check order for APS and TAS Checks * 1\n",
      "Vendor Totals 129.85 0.00 129.85\n",
      "250 D & B Real Estate Management Company\n",
      "AUTO 072220 072220 7,500.00 P 7,500.00 Y 1 Monthly Rent (Including Electric, Gas & Garbage) * 1\n",
      "AUTO 072620 072620 7,500.00 P 7,500.00 Y 2 Monthly Rent (Including Electric, Gas & Garbage) * 1\n",
      "5074 KEY 081320 081320 10.00 10.00 N 3 Duplicate Key for building 1\n",
      "Vendor Totals 15,010.00 0.00 15,010.00\n",
      "300 Thomson Reuters Payment Center\n",
      "042520 042520 4.00 P 4.00 3 Online Legal Research * 1\n",
      "052420 052420 75.00 P 75.00 1 Online Legal Research * 1\n",
      "062520 062520 40.00 P 40.00 4 Online Legal Research * 1\n",
      "072920 072920 4.00 P 4.00 2 Online Legal Research * 1\n",
      "073020 073020 50.00 P 50.00 5 Online Legal Research * 1\n",
      "073020 073020 50.00 P 50.00 6 Online Legal Research * 1\n",
      "073020 073020 50.00 P 50.00 7 Online Legal Research * 1\n",
      "073020 073020 50.00 P 50.00 8 Online Legal Research * 1\n",
      "Vendor Totals 323.00 0.00 323.00\n",
      "325 Professional Messenger Services\n",
      "062120 062120 20.00 P 20.00 Y 2 Courier Fee * 1\n",
      "062420 062420 25.00 P 25.00 Y 4 Courier Fee * 1\n",
      "082520 082520 47.50 P 47.50 Y 1 Courier Fee * 1\n",
      "082520 082520 35.00 P 35.00 Y 3 Courier Fee * 1\n",
      "Vendor Totals 127.50 0.00 127.50\n",
      "400 Sprint Local & Long Distance\n",
      "402310760011 082020 082520 68.96 68.96 1 November Cell Phone Charges  1\n",
      "Vendor Totals 68.96 0.00 68.96\n",
      "700 Clean All Janitorial Services\n",
      "AUTO 072220 072520 750.00 P 750.00 Y 1 Monthly Cleaning Charges (Bi-Weekly Service) * 1\n",
      "AUTO 072620 082520 750.00 750.00 Y 2 Monthly Cleaning Charges (Bi-Weekly Service) 1\n",
      "Vendor Totals 1,500.00 0.00 1,500.00\n",
      "Grand Totals 22,476.31 0.00 22,476.31\n",
      "-16-\n"
     ]
    }
   ],
   "source": [
    "print(text)"
   ]
  },
  {
   "cell_type": "code",
   "execution_count": 14,
   "id": "9a7bbbf2",
   "metadata": {},
   "outputs": [],
   "source": [
    "# Collecting vendor name\n",
    "# We see vendor name starts with 3 digit number and text\n",
    "# Use regex\n",
    "\n",
    "new_vend_re = re.compile(r'^\\d{3} [A-Z].*')\n"
   ]
  },
  {
   "cell_type": "code",
   "execution_count": 15,
   "id": "750a2795",
   "metadata": {},
   "outputs": [
    {
     "name": "stdout",
     "output_type": "stream",
     "text": [
      "200 United Parcel Service\n",
      "202 Software Technology, LLC\n",
      "203 Clerk of the County Court\n",
      "204 Clerk of the District Court\n",
      "225 Jackson/Wylinda\n",
      "240 NELCO\n",
      "250 D & B Real Estate Management Company\n",
      "300 Thomson Reuters Payment Center\n",
      "325 Professional Messenger Services\n",
      "400 Sprint Local & Long Distance\n",
      "700 Clean All Janitorial Services\n"
     ]
    }
   ],
   "source": [
    "for line in text.split('\\n'):\n",
    "    if new_vend_re.match(line):\n",
    "        print(line)"
   ]
  },
  {
   "cell_type": "code",
   "execution_count": 16,
   "id": "e2fc6253",
   "metadata": {},
   "outputs": [
    {
     "name": "stdout",
     "output_type": "stream",
     "text": [
      "200\n",
      "United Parcel Service\n",
      "202\n",
      "Software Technology, LLC\n",
      "203\n",
      "Clerk of the County Court\n",
      "204\n",
      "Clerk of the District Court\n",
      "225\n",
      "Jackson/Wylinda\n",
      "240\n",
      "NELCO\n",
      "250\n",
      "D & B Real Estate Management Company\n",
      "300\n",
      "Thomson Reuters Payment Center\n",
      "325\n",
      "Professional Messenger Services\n",
      "400\n",
      "Sprint Local & Long Distance\n",
      "700\n",
      "Clean All Janitorial Services\n"
     ]
    }
   ],
   "source": [
    "# separating vendor no. and vendor name from above\n",
    "for line in text.split('\\n'):\n",
    "    if new_vend_re.match(line):\n",
    "        vend_num, *vend_name = line.split()\n",
    "        vend_name = ' '.join(vend_name)\n",
    "        #print(vend_num, vend_name)\n",
    "        print(vend_num)\n",
    "        print(vend_name)"
   ]
  },
  {
   "cell_type": "markdown",
   "id": "4bdf69d9",
   "metadata": {},
   "source": [
    "# Thinking process\n",
    "Problems identified\n",
    "1. Inconsistent\n",
    "2. Some have voucher and invoice number, others don't  \n",
    "3. Invoice might clash with Regex used here for dates (6digits)\n",
    "\n",
    "Steps:\n",
    "1. ignore voucher number and invoice number for now\n",
    "2. consistent -- 6 digit date | space | 6 digit date | Inv.amt | 'P' letter or not | net.amt | Description\n"
   ]
  },
  {
   "cell_type": "code",
   "execution_count": 17,
   "id": "577af981",
   "metadata": {},
   "outputs": [
    {
     "name": "stdout",
     "output_type": "stream",
     "text": [
      "200.01MLJ 3243387 032620 062620 75.00 P 75.00 1 Overnight document delivery * 1\n",
      "3243387 032720 062720 75.00 P 75.00 3 Postage * 1\n",
      "3243387 072620 072620 75.00 P 75.00 2 Overnight document delivery * 1\n",
      "312205 082020 082520 490.00 P 490.00 1 Software Maintenance Agreement Tabs3 * 1\n",
      "312206 082020 082520 239.00 P 239.00 2 Software Maintenance Agreement Tabs3 General Ledger * 1\n",
      "312207 082020 082520 239.00 P 239.00 3 Software Maintenance Agreement Tabs3 Accounts Payable * 1\n",
      "312208 082020 082520 239.00 P 239.00 4 Software Maintenance Agreement Tabs3 Trust Accounting * 1\n",
      "312209 082020 082520 800.00 P 800.00 5 Software Maintenance Agreement PracticeMaster (9 Users) * 1\n",
      "312210 082020 082520 105.00 P 105.00 6 Software Maintenance Agreement Tabs3 Taskbill * 1\n",
      "320559 082520 083020 205.00 205.00 7 Purchase Tabs3 Device Interface Program 1\n",
      "200.01PAM 042620 042620 225.00 P 225.00 1 Documentation Fee, Filing Fee, and Sheriff Service Fee * 1\n",
      "032720 032720 75.00 P 75.00 2 Filing fee * 1\n",
      "052020 052020 75.00 P 75.00 3 Filing fee * 1\n",
      "850.00 RON 082020 082020 150.00 150.00 1 Petition for Dissolution of Marriage Filing Fee 1\n",
      "122419 122419 750.00 P 750.00 Y 2 Holiday Party * 1\n",
      "072620 072620 1,500.00 P 1,500.00 Y 1 Catering/Firm Retreat * 1\n",
      "5065 2094756 072620 082620 129.85 P 129.85 1 Check order for APS and TAS Checks * 1\n",
      "AUTO 072220 072220 7,500.00 P 7,500.00 Y 1 Monthly Rent (Including Electric, Gas & Garbage) * 1\n",
      "AUTO 072620 072620 7,500.00 P 7,500.00 Y 2 Monthly Rent (Including Electric, Gas & Garbage) * 1\n",
      "5074 KEY 081320 081320 10.00 10.00 N 3 Duplicate Key for building 1\n",
      "042520 042520 4.00 P 4.00 3 Online Legal Research * 1\n",
      "052420 052420 75.00 P 75.00 1 Online Legal Research * 1\n",
      "062520 062520 40.00 P 40.00 4 Online Legal Research * 1\n",
      "072920 072920 4.00 P 4.00 2 Online Legal Research * 1\n",
      "073020 073020 50.00 P 50.00 5 Online Legal Research * 1\n",
      "073020 073020 50.00 P 50.00 6 Online Legal Research * 1\n",
      "073020 073020 50.00 P 50.00 7 Online Legal Research * 1\n",
      "073020 073020 50.00 P 50.00 8 Online Legal Research * 1\n",
      "062120 062120 20.00 P 20.00 Y 2 Courier Fee * 1\n",
      "062420 062420 25.00 P 25.00 Y 4 Courier Fee * 1\n",
      "082520 082520 47.50 P 47.50 Y 1 Courier Fee * 1\n",
      "082520 082520 35.00 P 35.00 Y 3 Courier Fee * 1\n",
      "402310760011 082020 082520 68.96 68.96 1 November Cell Phone Charges  1\n",
      "AUTO 072220 072520 750.00 P 750.00 Y 1 Monthly Cleaning Charges (Bi-Weekly Service) * 1\n",
      "AUTO 072620 082520 750.00 750.00 Y 2 Monthly Cleaning Charges (Bi-Weekly Service) 1\n"
     ]
    }
   ],
   "source": [
    "# getting regex right is the trickiest part\n",
    "\n",
    "inv_line_re = re.compile(r'(\\d{6}) (\\d{6}) ([\\d,]+\\.\\d{2})[\\sP]*([\\d,]+\\.\\d{2})[YN ]*\\d\\s?(.*?) [*\\s\\d]')\n",
    "for line in text.split('\\n'):\n",
    "    if inv_line_re.search(line):\n",
    "        print(line)                          #prints entire line with the matches given"
   ]
  },
  {
   "cell_type": "code",
   "execution_count": 18,
   "id": "d2fe2775",
   "metadata": {},
   "outputs": [
    {
     "name": "stdout",
     "output_type": "stream",
     "text": [
      "Overnight document delivery\n",
      "Postage\n",
      "Overnight document delivery\n",
      "Software Maintenance Agreement Tabs3\n",
      "Software Maintenance Agreement Tabs3 General Ledger\n",
      "Software Maintenance Agreement Tabs3 Accounts Payable\n",
      "Software Maintenance Agreement Tabs3 Trust Accounting\n",
      "Software Maintenance Agreement PracticeMaster (9 Users)\n",
      "Software Maintenance Agreement Tabs3 Taskbill\n",
      "Purchase Tabs3 Device Interface Program\n",
      "Documentation Fee, Filing Fee, and Sheriff Service Fee\n",
      "Filing fee\n",
      "Filing fee\n",
      "Petition for Dissolution of Marriage Filing Fee\n",
      "Holiday Party\n",
      "Catering/Firm Retreat\n",
      "Check order for APS and TAS Checks\n",
      "Monthly Rent (Including Electric, Gas & Garbage)\n",
      "Monthly Rent (Including Electric, Gas & Garbage)\n",
      "Duplicate Key for building\n",
      "Online Legal Research\n",
      "Online Legal Research\n",
      "Online Legal Research\n",
      "Online Legal Research\n",
      "Online Legal Research\n",
      "Online Legal Research\n",
      "Online Legal Research\n",
      "Online Legal Research\n",
      "Courier Fee\n",
      "Courier Fee\n",
      "Courier Fee\n",
      "Courier Fee\n",
      "November Cell Phone Charges\n",
      "Monthly Cleaning Charges (Bi-Weekly Service)\n",
      "Monthly Cleaning Charges (Bi-Weekly Service)\n"
     ]
    }
   ],
   "source": [
    "#Checking for Description part being correct\n",
    "for line in text.split('\\n'):\n",
    "    line = inv_line_re.search(line)\n",
    "    if line:\n",
    "        print(line.group(5))"
   ]
  },
  {
   "cell_type": "code",
   "execution_count": 19,
   "id": "50b5cdef",
   "metadata": {},
   "outputs": [
    {
     "name": "stdout",
     "output_type": "stream",
     "text": [
      "032620\n",
      "032720\n",
      "072620\n",
      "082020\n",
      "082020\n",
      "082020\n",
      "082020\n",
      "082020\n",
      "082020\n",
      "082520\n",
      "042620\n",
      "032720\n",
      "052020\n",
      "082020\n",
      "122419\n",
      "072620\n",
      "072620\n",
      "072220\n",
      "072620\n",
      "081320\n",
      "042520\n",
      "052420\n",
      "062520\n",
      "072920\n",
      "073020\n",
      "073020\n",
      "073020\n",
      "073020\n",
      "062120\n",
      "062420\n",
      "082520\n",
      "082520\n",
      "082020\n",
      "072220\n",
      "072620\n"
     ]
    }
   ],
   "source": [
    "#If we want 'Inv. Date' which is first group\n",
    "for line in text.split('\\n'):\n",
    "    line = inv_line_re.search(line)\n",
    "    if line:\n",
    "        print(line.group(1))"
   ]
  },
  {
   "cell_type": "code",
   "execution_count": 20,
   "id": "fa1d9026",
   "metadata": {},
   "outputs": [],
   "source": [
    "# We have succesfully created group of Inv and Due dates, Inv.amt, Net amt, Description.\n",
    "# Put them into columns and make a dataframe\n",
    "\n",
    "from collections import namedtuple"
   ]
  },
  {
   "cell_type": "code",
   "execution_count": 21,
   "id": "bc62366a",
   "metadata": {},
   "outputs": [],
   "source": [
    "Inv = namedtuple('Inv', 'vend_num vend_name Inv_date Due_date Inv_amt Net_amt Description')"
   ]
  },
  {
   "cell_type": "code",
   "execution_count": 22,
   "id": "2dc08969",
   "metadata": {},
   "outputs": [],
   "source": [
    "line_items=[]\n",
    "for line in text.split('\\n'):\n",
    "    if new_vend_re.match(line):\n",
    "        vend_num, *vend_name = line.split()\n",
    "        vend_name = ' '.join(vend_name)\n",
    "        \n",
    "    line = inv_line_re.search(line)\n",
    "    if line:\n",
    "        inv_dt = line.group(1)\n",
    "        due_dt = line.group(2)\n",
    "        inv_amt = line.group(3)\n",
    "        net_amt = line.group(4)\n",
    "        desc = line.group(5)\n",
    "        line_items.append(Inv(vend_num, vend_name, inv_dt, due_dt, inv_amt, net_amt, desc))\n",
    "            \n",
    "           "
   ]
  },
  {
   "cell_type": "code",
   "execution_count": 23,
   "id": "b89858f6",
   "metadata": {},
   "outputs": [
    {
     "data": {
      "text/plain": [
       "[Inv(vend_num='200', vend_name='United Parcel Service', Inv_date='032620', Due_date='062620', Inv_amt='75.00', Net_amt='75.00', Description='Overnight document delivery'),\n",
       " Inv(vend_num='200', vend_name='United Parcel Service', Inv_date='032720', Due_date='062720', Inv_amt='75.00', Net_amt='75.00', Description='Postage'),\n",
       " Inv(vend_num='200', vend_name='United Parcel Service', Inv_date='072620', Due_date='072620', Inv_amt='75.00', Net_amt='75.00', Description='Overnight document delivery')]"
      ]
     },
     "execution_count": 23,
     "metadata": {},
     "output_type": "execute_result"
    }
   ],
   "source": [
    "#check\n",
    "line_items[:3]"
   ]
  },
  {
   "cell_type": "code",
   "execution_count": 24,
   "id": "f4193b3b",
   "metadata": {},
   "outputs": [],
   "source": [
    "#making it a Dataframe\n",
    "df = pd.DataFrame(line_items)"
   ]
  },
  {
   "cell_type": "code",
   "execution_count": 25,
   "id": "a995c780",
   "metadata": {},
   "outputs": [
    {
     "data": {
      "text/html": [
       "<div>\n",
       "<style scoped>\n",
       "    .dataframe tbody tr th:only-of-type {\n",
       "        vertical-align: middle;\n",
       "    }\n",
       "\n",
       "    .dataframe tbody tr th {\n",
       "        vertical-align: top;\n",
       "    }\n",
       "\n",
       "    .dataframe thead th {\n",
       "        text-align: right;\n",
       "    }\n",
       "</style>\n",
       "<table border=\"1\" class=\"dataframe\">\n",
       "  <thead>\n",
       "    <tr style=\"text-align: right;\">\n",
       "      <th></th>\n",
       "      <th>vend_num</th>\n",
       "      <th>vend_name</th>\n",
       "      <th>Inv_date</th>\n",
       "      <th>Due_date</th>\n",
       "      <th>Inv_amt</th>\n",
       "      <th>Net_amt</th>\n",
       "      <th>Description</th>\n",
       "    </tr>\n",
       "  </thead>\n",
       "  <tbody>\n",
       "    <tr>\n",
       "      <th>0</th>\n",
       "      <td>200</td>\n",
       "      <td>United Parcel Service</td>\n",
       "      <td>032620</td>\n",
       "      <td>062620</td>\n",
       "      <td>75.00</td>\n",
       "      <td>75.00</td>\n",
       "      <td>Overnight document delivery</td>\n",
       "    </tr>\n",
       "    <tr>\n",
       "      <th>1</th>\n",
       "      <td>200</td>\n",
       "      <td>United Parcel Service</td>\n",
       "      <td>032720</td>\n",
       "      <td>062720</td>\n",
       "      <td>75.00</td>\n",
       "      <td>75.00</td>\n",
       "      <td>Postage</td>\n",
       "    </tr>\n",
       "    <tr>\n",
       "      <th>2</th>\n",
       "      <td>200</td>\n",
       "      <td>United Parcel Service</td>\n",
       "      <td>072620</td>\n",
       "      <td>072620</td>\n",
       "      <td>75.00</td>\n",
       "      <td>75.00</td>\n",
       "      <td>Overnight document delivery</td>\n",
       "    </tr>\n",
       "    <tr>\n",
       "      <th>3</th>\n",
       "      <td>202</td>\n",
       "      <td>Software Technology, LLC</td>\n",
       "      <td>082020</td>\n",
       "      <td>082520</td>\n",
       "      <td>490.00</td>\n",
       "      <td>490.00</td>\n",
       "      <td>Software Maintenance Agreement Tabs3</td>\n",
       "    </tr>\n",
       "    <tr>\n",
       "      <th>4</th>\n",
       "      <td>202</td>\n",
       "      <td>Software Technology, LLC</td>\n",
       "      <td>082020</td>\n",
       "      <td>082520</td>\n",
       "      <td>239.00</td>\n",
       "      <td>239.00</td>\n",
       "      <td>Software Maintenance Agreement Tabs3 General L...</td>\n",
       "    </tr>\n",
       "  </tbody>\n",
       "</table>\n",
       "</div>"
      ],
      "text/plain": [
       "  vend_num                 vend_name Inv_date Due_date Inv_amt Net_amt  \\\n",
       "0      200     United Parcel Service   032620   062620   75.00   75.00   \n",
       "1      200     United Parcel Service   032720   062720   75.00   75.00   \n",
       "2      200     United Parcel Service   072620   072620   75.00   75.00   \n",
       "3      202  Software Technology, LLC   082020   082520  490.00  490.00   \n",
       "4      202  Software Technology, LLC   082020   082520  239.00  239.00   \n",
       "\n",
       "                                         Description  \n",
       "0                        Overnight document delivery  \n",
       "1                                            Postage  \n",
       "2                        Overnight document delivery  \n",
       "3               Software Maintenance Agreement Tabs3  \n",
       "4  Software Maintenance Agreement Tabs3 General L...  "
      ]
     },
     "execution_count": 25,
     "metadata": {},
     "output_type": "execute_result"
    }
   ],
   "source": [
    "df.head()"
   ]
  },
  {
   "cell_type": "code",
   "execution_count": 26,
   "id": "55311383",
   "metadata": {},
   "outputs": [],
   "source": [
    "# convert date columns into datetime format\n",
    "df['Inv_date'] = pd.to_datetime(df['Inv_date'])\n",
    "df['Due_date'] = pd.to_datetime(df['Due_date'])"
   ]
  },
  {
   "cell_type": "code",
   "execution_count": 27,
   "id": "bdd193e9",
   "metadata": {},
   "outputs": [
    {
     "data": {
      "text/html": [
       "<div>\n",
       "<style scoped>\n",
       "    .dataframe tbody tr th:only-of-type {\n",
       "        vertical-align: middle;\n",
       "    }\n",
       "\n",
       "    .dataframe tbody tr th {\n",
       "        vertical-align: top;\n",
       "    }\n",
       "\n",
       "    .dataframe thead th {\n",
       "        text-align: right;\n",
       "    }\n",
       "</style>\n",
       "<table border=\"1\" class=\"dataframe\">\n",
       "  <thead>\n",
       "    <tr style=\"text-align: right;\">\n",
       "      <th></th>\n",
       "      <th>vend_num</th>\n",
       "      <th>vend_name</th>\n",
       "      <th>Inv_date</th>\n",
       "      <th>Due_date</th>\n",
       "      <th>Inv_amt</th>\n",
       "      <th>Net_amt</th>\n",
       "      <th>Description</th>\n",
       "    </tr>\n",
       "  </thead>\n",
       "  <tbody>\n",
       "    <tr>\n",
       "      <th>0</th>\n",
       "      <td>200</td>\n",
       "      <td>United Parcel Service</td>\n",
       "      <td>2020-03-26</td>\n",
       "      <td>2020-06-26</td>\n",
       "      <td>75.00</td>\n",
       "      <td>75.00</td>\n",
       "      <td>Overnight document delivery</td>\n",
       "    </tr>\n",
       "    <tr>\n",
       "      <th>1</th>\n",
       "      <td>200</td>\n",
       "      <td>United Parcel Service</td>\n",
       "      <td>2020-03-27</td>\n",
       "      <td>2020-06-27</td>\n",
       "      <td>75.00</td>\n",
       "      <td>75.00</td>\n",
       "      <td>Postage</td>\n",
       "    </tr>\n",
       "    <tr>\n",
       "      <th>2</th>\n",
       "      <td>200</td>\n",
       "      <td>United Parcel Service</td>\n",
       "      <td>2020-07-26</td>\n",
       "      <td>2020-07-26</td>\n",
       "      <td>75.00</td>\n",
       "      <td>75.00</td>\n",
       "      <td>Overnight document delivery</td>\n",
       "    </tr>\n",
       "    <tr>\n",
       "      <th>3</th>\n",
       "      <td>202</td>\n",
       "      <td>Software Technology, LLC</td>\n",
       "      <td>2020-08-20</td>\n",
       "      <td>2020-08-25</td>\n",
       "      <td>490.00</td>\n",
       "      <td>490.00</td>\n",
       "      <td>Software Maintenance Agreement Tabs3</td>\n",
       "    </tr>\n",
       "    <tr>\n",
       "      <th>4</th>\n",
       "      <td>202</td>\n",
       "      <td>Software Technology, LLC</td>\n",
       "      <td>2020-08-20</td>\n",
       "      <td>2020-08-25</td>\n",
       "      <td>239.00</td>\n",
       "      <td>239.00</td>\n",
       "      <td>Software Maintenance Agreement Tabs3 General L...</td>\n",
       "    </tr>\n",
       "  </tbody>\n",
       "</table>\n",
       "</div>"
      ],
      "text/plain": [
       "  vend_num                 vend_name   Inv_date   Due_date Inv_amt Net_amt  \\\n",
       "0      200     United Parcel Service 2020-03-26 2020-06-26   75.00   75.00   \n",
       "1      200     United Parcel Service 2020-03-27 2020-06-27   75.00   75.00   \n",
       "2      200     United Parcel Service 2020-07-26 2020-07-26   75.00   75.00   \n",
       "3      202  Software Technology, LLC 2020-08-20 2020-08-25  490.00  490.00   \n",
       "4      202  Software Technology, LLC 2020-08-20 2020-08-25  239.00  239.00   \n",
       "\n",
       "                                         Description  \n",
       "0                        Overnight document delivery  \n",
       "1                                            Postage  \n",
       "2                        Overnight document delivery  \n",
       "3               Software Maintenance Agreement Tabs3  \n",
       "4  Software Maintenance Agreement Tabs3 General L...  "
      ]
     },
     "execution_count": 27,
     "metadata": {},
     "output_type": "execute_result"
    }
   ],
   "source": [
    "df.head()"
   ]
  },
  {
   "cell_type": "code",
   "execution_count": 28,
   "id": "6ea31d69",
   "metadata": {},
   "outputs": [],
   "source": [
    "# converting amount values string to float  (it has commas also)\n",
    "df['Inv_amt'] = df['Inv_amt'].map(lambda x: float(x.replace(',','')))\n",
    "df['Net_amt'] = df['Net_amt'].map(lambda x: float(x.replace(',','')))"
   ]
  },
  {
   "cell_type": "code",
   "execution_count": 29,
   "id": "948fbd74",
   "metadata": {},
   "outputs": [
    {
     "data": {
      "text/plain": [
       "Inv_amt    22476.31\n",
       "Net_amt    22476.31\n",
       "dtype: float64"
      ]
     },
     "execution_count": 29,
     "metadata": {},
     "output_type": "execute_result"
    }
   ],
   "source": [
    "df[['Inv_amt','Net_amt']].sum()"
   ]
  },
  {
   "cell_type": "code",
   "execution_count": 30,
   "id": "28ffdd21",
   "metadata": {},
   "outputs": [],
   "source": [
    "# It matches with the value shown in pdf at the bottom 'Grand Totals' (looks good)"
   ]
  },
  {
   "cell_type": "code",
   "execution_count": 32,
   "id": "787db4a0",
   "metadata": {},
   "outputs": [],
   "source": [
    "# Exporting as csv\n",
    "df.to_csv('Invoice1.csv')"
   ]
  },
  {
   "cell_type": "markdown",
   "id": "353bb94e",
   "metadata": {},
   "source": [
    "# --------- End of '_Extract Invoice lines from a semistructured PDF page_' --------"
   ]
  }
 ],
 "metadata": {
  "kernelspec": {
   "display_name": "Python 3 (ipykernel)",
   "language": "python",
   "name": "python3"
  },
  "language_info": {
   "codemirror_mode": {
    "name": "ipython",
    "version": 3
   },
   "file_extension": ".py",
   "mimetype": "text/x-python",
   "name": "python",
   "nbconvert_exporter": "python",
   "pygments_lexer": "ipython3",
   "version": "3.9.7"
  }
 },
 "nbformat": 4,
 "nbformat_minor": 5
}
